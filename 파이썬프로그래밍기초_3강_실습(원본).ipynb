{
  "nbformat": 4,
  "nbformat_minor": 0,
  "metadata": {
    "colab": {
      "provenance": [],
      "include_colab_link": true
    },
    "kernelspec": {
      "name": "python3",
      "display_name": "Python 3"
    },
    "language_info": {
      "name": "python"
    }
  },
  "cells": [
    {
      "cell_type": "markdown",
      "metadata": {
        "id": "view-in-github",
        "colab_type": "text"
      },
      "source": [
        "<a href=\"https://colab.research.google.com/github/jaehwachung/Python-Programming/blob/main/%ED%8C%8C%EC%9D%B4%EC%8D%AC%ED%94%84%EB%A1%9C%EA%B7%B8%EB%9E%98%EB%B0%8D%EA%B8%B0%EC%B4%88_3%EA%B0%95_%EC%8B%A4%EC%8A%B5(%EC%9B%90%EB%B3%B8).ipynb\" target=\"_parent\"><img src=\"https://colab.research.google.com/assets/colab-badge.svg\" alt=\"Open In Colab\"/></a>"
      ]
    },
    {
      "cell_type": "markdown",
      "source": [
        "# 3강 파이썬의 이해 - 실습"
      ],
      "metadata": {
        "id": "RkSd1I4p5rD2"
      }
    },
    {
      "cell_type": "markdown",
      "source": [
        "## 3강 1절"
      ],
      "metadata": {
        "id": "8qm2njbqj44L"
      }
    },
    {
      "cell_type": "code",
      "source": [
        "53000000"
      ],
      "metadata": {
        "id": "Rupa9hQnfVSx"
      },
      "execution_count": null,
      "outputs": []
    },
    {
      "cell_type": "markdown",
      "source": [
        "## 3강 2절"
      ],
      "metadata": {
        "id": "XA4yR0RDjgNl"
      }
    },
    {
      "cell_type": "code",
      "source": [
        "print(1 / 3 * 3.14 * 20 ** 2 * 30 )\n",
        "print(3.14 * 20 ** 2 + 3.14 * 20 * 30)"
      ],
      "metadata": {
        "id": "buMmaXCXjk6D"
      },
      "execution_count": null,
      "outputs": []
    }
  ]
}